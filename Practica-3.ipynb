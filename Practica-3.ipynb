{
 "cells": [
  {
   "cell_type": "markdown",
   "metadata": {},
   "source": [
    "# Práctica No. 3\n",
    "\n",
    "González Ramírez María del Carmen\n",
    "**GH: mariegonzalez**\n",
    "\n",
    "\n",
    "Orozco Pérez Clara Paula\n",
    "**GH: claraorozco**\n",
    "\n",
    "\n",
    "Rojano Ávila Cinthya Susana\n",
    "**GH: SusyRojano**\n",
    "\n",
    "___"
   ]
  },
  {
   "cell_type": "markdown",
   "metadata": {},
   "source": [
    "**Instrucciones:** Realice un notebook usando jupyter considerando lo siguiente:"
   ]
  },
  {
   "cell_type": "markdown",
   "metadata": {},
   "source": [
    "1. Escriba un ciclo que genere todos los enteros entre 0 y $n$."
   ]
  },
  {
   "cell_type": "code",
   "execution_count": 12,
   "metadata": {},
   "outputs": [
    {
     "name": "stdout",
     "output_type": "stream",
     "text": [
      "Los números entre 0 y 5 son:\n",
      "0\n",
      "1\n",
      "2\n",
      "3\n",
      "4\n",
      "5\n"
     ]
    }
   ],
   "source": [
    "x = 0 #primer valor del rango \n",
    "n = 5 #se asigna el valor de n\n",
    "\n",
    "print(f'Los números entre 0 y {n} son:') #se imprimen los núeros primos entre 0 y el valor de n\n",
    "\n",
    "while x <= n: #mientras que x sea menor o igual al valor de n \n",
    "    print(x)  \n",
    "    x = x + 1"
   ]
  },
  {
   "cell_type": "markdown",
   "metadata": {},
   "source": [
    "2. Escriba un ciclo que genere todos los números pares entre 0 y $n$."
   ]
  },
  {
   "cell_type": "code",
   "execution_count": 9,
   "metadata": {},
   "outputs": [
    {
     "name": "stdout",
     "output_type": "stream",
     "text": [
      "0\n",
      "2\n",
      "4\n",
      "6\n",
      "8\n",
      "10\n"
     ]
    }
   ],
   "source": [
    "i = 0 #se asigna el valor del contador \n",
    "n = 10 #\n",
    "\n",
    "for n in range (0, n + 1): #para n en el rango (0, n + 1)\n",
    "    if n%2 == 0:  #imprimir solo los valores del residuo de n entre 2 y que este sea igual a 0 \n",
    "        print(n)\n",
    "\n",
    "n = n + 1"
   ]
  },
  {
   "cell_type": "markdown",
   "metadata": {},
   "source": [
    "3. Escriba un ciclo que genere todo los número impares entre 0 y $n$."
   ]
  },
  {
   "cell_type": "code",
   "execution_count": 76,
   "metadata": {},
   "outputs": [
    {
     "name": "stdout",
     "output_type": "stream",
     "text": [
      "1\n",
      "3\n",
      "5\n",
      "7\n",
      "9\n",
      "11\n",
      "13\n"
     ]
    }
   ],
   "source": [
    "i = 0 #valor del contador\n",
    "n = 15 #valor asignado a n\n",
    "\n",
    "for n in range (0, n): # para n dentro del rango (0, n)\n",
    "    if n%2 == 1:  #si el residuo de n sobre 2 es igual a 1\n",
    "        print(n)  #imprimir el valor de n \n",
    "\n",
    "n = n + 1"
   ]
  },
  {
   "cell_type": "markdown",
   "metadata": {},
   "source": [
    "4. Calcule, usando un ciclo, la suma de los primero n naturales. Sin usar la fórmula de Gauss."
   ]
  },
  {
   "cell_type": "code",
   "execution_count": 13,
   "metadata": {},
   "outputs": [
    {
     "name": "stdout",
     "output_type": "stream",
     "text": [
      "La suma de los primeros 10 naturales es:  55\n"
     ]
    }
   ],
   "source": [
    "x = 1 #valor de x\n",
    "n = 10 #valor de n\n",
    "suma = 0  \n",
    "\n",
    "while x <= n: #mientras que x sea igual o menor que n \n",
    "    suma = suma + x  \n",
    "    x = x + 1\n",
    "\n",
    "print(f'La suma de los primeros {n} naturales es: ', suma)"
   ]
  },
  {
   "cell_type": "markdown",
   "metadata": {},
   "source": [
    "5. La serie o sucesión de Fibonacci es una sucesión infinita de números naturales, la cual comienza con los números 0 y 1 y a partir de estos, cada término es la suma de los dos anteriores. Algunos términos de la serie de Fibonacci son: 0, 1, 1, 2, 3, 5, 8, 13, 21, . . . . Escriba un ciclo que genere una lista con los primeros $n$ términos de la serie de Fibonacci, es decir si $n = 15$, la lista debe de ser [0, 1, 1, 2, 3, 5, 8, 13, 21, 34, 55, 89, 144, 233, 377]."
   ]
  },
  {
   "cell_type": "code",
   "execution_count": 14,
   "metadata": {},
   "outputs": [
    {
     "name": "stdout",
     "output_type": "stream",
     "text": [
      "Sucesión de Fibonacci: \n",
      "0\n",
      "1\n",
      "1\n",
      "2\n",
      "3\n",
      "5\n",
      "8\n",
      "13\n",
      "21\n",
      "34\n",
      "55\n",
      "89\n",
      "144\n",
      "233\n",
      "377\n"
     ]
    }
   ],
   "source": [
    "def fibonacci(n): #se define la función \n",
    "    if n == 1 or n == 0: #si n es igual a 1 o si n es igual a 0\n",
    "        return n #regresar n \n",
    "    else:\n",
    "        return fibonacci (n-2) + fibonacci (n-1) #o bien  con a sucesión de Fibonacci\n",
    "\n",
    "n = 15 #asiganmos valor a n \n",
    "\n",
    "if n < 0:\n",
    "\tprint('Número no válido') #si n es menor a 0 imprimirá que el número no es válido\n",
    "\n",
    "i=0 #valor asignado del contador \n",
    "\n",
    "print(\"Sucesión de Fibonacci: \") \n",
    "\n",
    "for i in range(0, n):\n",
    "\tprint(fibonacci(i))  #para i en rango (0, n) imprimir la sucesión fibonacci"
   ]
  },
  {
   "cell_type": "markdown",
   "metadata": {},
   "source": [
    "6. Escriba un ciclo que regrese True si un numero es primo y False de lo contrario. Luego usando el ciclo anterior escriba una función que se llame is prime() que reciba un número $n$ y regrese True si el número en primo y False no es primo."
   ]
  },
  {
   "cell_type": "code",
   "execution_count": 15,
   "metadata": {},
   "outputs": [],
   "source": [
    "def is_prime(n): #definimos la función \n",
    "    i = 2  #se define el contador\n",
    "    isprime = True  #si es primo es True\n",
    "\n",
    "    while i < n: #mientras i sea menor a n\n",
    "        if n%i == 0: # si el residuo de la división de n entre i es igual a 0\n",
    "            isprime = False #cuando no sea primo es False \n",
    "            break #romper la cadena \n",
    "        else:\n",
    "                \n",
    "                i = i + 1\n",
    "    \n",
    "    return isprime\n",
    "    #print(f'El número {n} es primo: ', isprime) "
   ]
  },
  {
   "cell_type": "code",
   "execution_count": 16,
   "metadata": {},
   "outputs": [
    {
     "data": {
      "text/plain": [
       "True"
      ]
     },
     "execution_count": 16,
     "metadata": {},
     "output_type": "execute_result"
    }
   ],
   "source": [
    "is_prime(3)"
   ]
  },
  {
   "cell_type": "code",
   "execution_count": 17,
   "metadata": {},
   "outputs": [
    {
     "data": {
      "text/plain": [
       "False"
      ]
     },
     "execution_count": 17,
     "metadata": {},
     "output_type": "execute_result"
    }
   ],
   "source": [
    "is_prime(28)"
   ]
  },
  {
   "cell_type": "markdown",
   "metadata": {},
   "source": [
    "7. Implemente una función que se llame primes() que reciba un número $n$ y que regrese una lista con los primos entre 1 y $n$. Sugerencia: use la función is_prime() del ejercicio anterior."
   ]
  },
  {
   "cell_type": "code",
   "execution_count": 18,
   "metadata": {},
   "outputs": [],
   "source": [
    "def primes(n): #definimos la función \n",
    "\n",
    "    #i = 2 no es necesario en el ciclo for  \n",
    "    list_primes = []\n",
    "\n",
    "    for i in range (2, n + 1):\n",
    "        if is_prime(i):\n",
    "            list_primes.append(i)\n",
    "        #i += 1 no es necesario\n",
    "        \n",
    "    return list_primes"
   ]
  },
  {
   "cell_type": "code",
   "execution_count": 19,
   "metadata": {},
   "outputs": [
    {
     "data": {
      "text/plain": [
       "[2, 3, 5, 7, 11, 13, 17, 19]"
      ]
     },
     "execution_count": 19,
     "metadata": {},
     "output_type": "execute_result"
    }
   ],
   "source": [
    "primes(21)"
   ]
  },
  {
   "cell_type": "markdown",
   "metadata": {},
   "source": [
    "8. Mediante el operador de asignación defina una variable que se llame list of primes a partir de la función primes($n$) para algún $n$. Luego mediante un ciclo genere una lista que se llame twin_primes con los primos gemelos de la lista list_of_primes. Por ejemplo, si se requiere encontrar los primos gemelos entre 1 y 20, dicha lista debe de ser list of primes = [(3,5), (5,7), (11, 13), (17,19)], observe que los primos gemelos deben de estar en tuplas dentro de la lista."
   ]
  },
  {
   "cell_type": "code",
   "execution_count": 20,
   "metadata": {},
   "outputs": [],
   "source": [
    "def list_of_primes(n): #definimos la función\n",
    "    \n",
    "    twins_primes = [] #en esta lista se irán almacenando los primos gemelos\n",
    "    \n",
    "    for i in range(1, n + 1): #se define el rango que necesitamos evaluar\n",
    "        a = i + 2 #se define la variable a que comprobará si el contador es 2 números menor que él\n",
    "        if(is_prime(i) and is_prime(a)): #ponemos la condición, si i y a son primos\n",
    "            twins_primes.append((i, a)) #si cumplen la condición se agregan a la lista y los ( ) los agrega como tuplas\n",
    "    \n",
    "    return twins_primes #se repite con más primos que contenga el número dado"
   ]
  },
  {
   "cell_type": "code",
   "execution_count": 21,
   "metadata": {},
   "outputs": [
    {
     "data": {
      "text/plain": [
       "[(1, 3), (3, 5), (5, 7), (11, 13), (17, 19)]"
      ]
     },
     "execution_count": 21,
     "metadata": {},
     "output_type": "execute_result"
    }
   ],
   "source": [
    "list_of_primes(21)"
   ]
  },
  {
   "cell_type": "markdown",
   "metadata": {},
   "source": [
    "9. Escriba una función que se llame my factorial() que reciba un número $n$ del tipo int y regrese el factorial de éste 3."
   ]
  },
  {
   "cell_type": "code",
   "execution_count": 22,
   "metadata": {},
   "outputs": [],
   "source": [
    "def my_factorial(n): #definimos la función \n",
    "\n",
    "    n = int(n) #definimos valor de n como entero\n",
    "    i = 1  #valor del contador \n",
    "\n",
    "    if n < 0:\n",
    "        print(\"El factorial no existe\") #si n es menor a 0 se imprimirá que el facorial no existe \n",
    "    elif n == 0:\n",
    "        print (f\"El factorial de {n} es {i}\") #si n es igual a 0  imprimirá el factorial de n \n",
    "    else:\n",
    "        for n in range(1, n + 1):\n",
    "            i = i*n\n",
    "        print(f\"El factorial de {n} es {i}\") #imprimirá el factorial de n en el rango proporcionado anteriormente "
   ]
  },
  {
   "cell_type": "code",
   "execution_count": 23,
   "metadata": {},
   "outputs": [
    {
     "name": "stdout",
     "output_type": "stream",
     "text": [
      "El factorial de 5 es 120\n"
     ]
    }
   ],
   "source": [
    "my_factorial(5)"
   ]
  },
  {
   "cell_type": "code",
   "execution_count": 24,
   "metadata": {},
   "outputs": [
    {
     "name": "stdout",
     "output_type": "stream",
     "text": [
      "El factorial de 0 es 1\n"
     ]
    }
   ],
   "source": [
    "my_factorial(0)"
   ]
  },
  {
   "cell_type": "markdown",
   "metadata": {},
   "source": [
    "10. Escriba un ciclo que genera una serie de cadenas de la forma: date-1.txt, date-2.txt, etc, hasta n un número proporcionado por el usuario date-n.txt."
   ]
  },
  {
   "cell_type": "code",
   "execution_count": 25,
   "metadata": {},
   "outputs": [
    {
     "name": "stdout",
     "output_type": "stream",
     "text": [
      "Proporcione un número entero: 10\n",
      "date-1.txt\n",
      "date-2.txt\n",
      "date-3.txt\n",
      "date-4.txt\n",
      "date-5.txt\n",
      "date-6.txt\n",
      "date-7.txt\n",
      "date-8.txt\n",
      "date-9.txt\n",
      "date-10.txt\n"
     ]
    }
   ],
   "source": [
    "n = int(input(\"Proporcione un número entero: \")) #aquí se solicita dar un número entero que está denominado como n \n",
    "i = 1\n",
    "\n",
    "while i <= n:\n",
    "    print(f\"date-{i}.txt\") #mientras que i sea menor o igual a n se imprimirá (f\"date-{i}.txt\")\n",
    "    i = i + 1"
   ]
  }
 ],
 "metadata": {
  "kernelspec": {
   "display_name": "Python 3",
   "language": "python",
   "name": "python3"
  },
  "language_info": {
   "codemirror_mode": {
    "name": "ipython",
    "version": 3
   },
   "file_extension": ".py",
   "mimetype": "text/x-python",
   "name": "python",
   "nbconvert_exporter": "python",
   "pygments_lexer": "ipython3",
   "version": "3.8.3"
  }
 },
 "nbformat": 4,
 "nbformat_minor": 4
}
